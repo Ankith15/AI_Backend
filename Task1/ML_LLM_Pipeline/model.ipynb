{
 "cells": [
  {
   "cell_type": "code",
   "execution_count": 22,
   "id": "dfc92f27",
   "metadata": {},
   "outputs": [],
   "source": [
    "import pandas as pd \n",
    "import numpy as np"
   ]
  },
  {
   "cell_type": "code",
   "execution_count": 23,
   "id": "e14dd1d8",
   "metadata": {},
   "outputs": [],
   "source": [
    "df = pd.read_csv(\"train.csv\")"
   ]
  },
  {
   "cell_type": "code",
   "execution_count": 24,
   "id": "31f6d84d",
   "metadata": {},
   "outputs": [
    {
     "data": {
      "text/html": [
       "<div>\n",
       "<style scoped>\n",
       "    .dataframe tbody tr th:only-of-type {\n",
       "        vertical-align: middle;\n",
       "    }\n",
       "\n",
       "    .dataframe tbody tr th {\n",
       "        vertical-align: top;\n",
       "    }\n",
       "\n",
       "    .dataframe thead th {\n",
       "        text-align: right;\n",
       "    }\n",
       "</style>\n",
       "<table border=\"1\" class=\"dataframe\">\n",
       "  <thead>\n",
       "    <tr style=\"text-align: right;\">\n",
       "      <th></th>\n",
       "      <th>id</th>\n",
       "      <th>vendor_id</th>\n",
       "      <th>pickup_datetime</th>\n",
       "      <th>dropoff_datetime</th>\n",
       "      <th>passenger_count</th>\n",
       "      <th>pickup_longitude</th>\n",
       "      <th>pickup_latitude</th>\n",
       "      <th>dropoff_longitude</th>\n",
       "      <th>dropoff_latitude</th>\n",
       "      <th>store_and_fwd_flag</th>\n",
       "      <th>trip_duration</th>\n",
       "    </tr>\n",
       "  </thead>\n",
       "  <tbody>\n",
       "    <tr>\n",
       "      <th>0</th>\n",
       "      <td>id2875421</td>\n",
       "      <td>2</td>\n",
       "      <td>2016-03-14 17:24:55</td>\n",
       "      <td>2016-03-14 17:32:30</td>\n",
       "      <td>1</td>\n",
       "      <td>-73.982155</td>\n",
       "      <td>40.767937</td>\n",
       "      <td>-73.964630</td>\n",
       "      <td>40.765602</td>\n",
       "      <td>N</td>\n",
       "      <td>455</td>\n",
       "    </tr>\n",
       "    <tr>\n",
       "      <th>1</th>\n",
       "      <td>id2377394</td>\n",
       "      <td>1</td>\n",
       "      <td>2016-06-12 00:43:35</td>\n",
       "      <td>2016-06-12 00:54:38</td>\n",
       "      <td>1</td>\n",
       "      <td>-73.980415</td>\n",
       "      <td>40.738564</td>\n",
       "      <td>-73.999481</td>\n",
       "      <td>40.731152</td>\n",
       "      <td>N</td>\n",
       "      <td>663</td>\n",
       "    </tr>\n",
       "    <tr>\n",
       "      <th>2</th>\n",
       "      <td>id3858529</td>\n",
       "      <td>2</td>\n",
       "      <td>2016-01-19 11:35:24</td>\n",
       "      <td>2016-01-19 12:10:48</td>\n",
       "      <td>1</td>\n",
       "      <td>-73.979027</td>\n",
       "      <td>40.763939</td>\n",
       "      <td>-74.005333</td>\n",
       "      <td>40.710087</td>\n",
       "      <td>N</td>\n",
       "      <td>2124</td>\n",
       "    </tr>\n",
       "    <tr>\n",
       "      <th>3</th>\n",
       "      <td>id3504673</td>\n",
       "      <td>2</td>\n",
       "      <td>2016-04-06 19:32:31</td>\n",
       "      <td>2016-04-06 19:39:40</td>\n",
       "      <td>1</td>\n",
       "      <td>-74.010040</td>\n",
       "      <td>40.719971</td>\n",
       "      <td>-74.012268</td>\n",
       "      <td>40.706718</td>\n",
       "      <td>N</td>\n",
       "      <td>429</td>\n",
       "    </tr>\n",
       "    <tr>\n",
       "      <th>4</th>\n",
       "      <td>id2181028</td>\n",
       "      <td>2</td>\n",
       "      <td>2016-03-26 13:30:55</td>\n",
       "      <td>2016-03-26 13:38:10</td>\n",
       "      <td>1</td>\n",
       "      <td>-73.973053</td>\n",
       "      <td>40.793209</td>\n",
       "      <td>-73.972923</td>\n",
       "      <td>40.782520</td>\n",
       "      <td>N</td>\n",
       "      <td>435</td>\n",
       "    </tr>\n",
       "  </tbody>\n",
       "</table>\n",
       "</div>"
      ],
      "text/plain": [
       "          id  vendor_id      pickup_datetime     dropoff_datetime  \\\n",
       "0  id2875421          2  2016-03-14 17:24:55  2016-03-14 17:32:30   \n",
       "1  id2377394          1  2016-06-12 00:43:35  2016-06-12 00:54:38   \n",
       "2  id3858529          2  2016-01-19 11:35:24  2016-01-19 12:10:48   \n",
       "3  id3504673          2  2016-04-06 19:32:31  2016-04-06 19:39:40   \n",
       "4  id2181028          2  2016-03-26 13:30:55  2016-03-26 13:38:10   \n",
       "\n",
       "   passenger_count  pickup_longitude  pickup_latitude  dropoff_longitude  \\\n",
       "0                1        -73.982155        40.767937         -73.964630   \n",
       "1                1        -73.980415        40.738564         -73.999481   \n",
       "2                1        -73.979027        40.763939         -74.005333   \n",
       "3                1        -74.010040        40.719971         -74.012268   \n",
       "4                1        -73.973053        40.793209         -73.972923   \n",
       "\n",
       "   dropoff_latitude store_and_fwd_flag  trip_duration  \n",
       "0         40.765602                  N            455  \n",
       "1         40.731152                  N            663  \n",
       "2         40.710087                  N           2124  \n",
       "3         40.706718                  N            429  \n",
       "4         40.782520                  N            435  "
      ]
     },
     "execution_count": 24,
     "metadata": {},
     "output_type": "execute_result"
    }
   ],
   "source": [
    "df.head(5)"
   ]
  },
  {
   "cell_type": "code",
   "execution_count": 25,
   "id": "c5deef0c",
   "metadata": {},
   "outputs": [
    {
     "data": {
      "text/plain": [
       "(1458644, 11)"
      ]
     },
     "execution_count": 25,
     "metadata": {},
     "output_type": "execute_result"
    }
   ],
   "source": [
    "df.shape"
   ]
  },
  {
   "cell_type": "code",
   "execution_count": 26,
   "id": "de52d3a0",
   "metadata": {},
   "outputs": [
    {
     "data": {
      "text/plain": [
       "id                    0\n",
       "vendor_id             0\n",
       "pickup_datetime       0\n",
       "dropoff_datetime      0\n",
       "passenger_count       0\n",
       "pickup_longitude      0\n",
       "pickup_latitude       0\n",
       "dropoff_longitude     0\n",
       "dropoff_latitude      0\n",
       "store_and_fwd_flag    0\n",
       "trip_duration         0\n",
       "dtype: int64"
      ]
     },
     "execution_count": 26,
     "metadata": {},
     "output_type": "execute_result"
    }
   ],
   "source": [
    "df.isnull().sum()"
   ]
  },
  {
   "cell_type": "code",
   "execution_count": 27,
   "id": "7b500902",
   "metadata": {},
   "outputs": [
    {
     "data": {
      "text/html": [
       "<div>\n",
       "<style scoped>\n",
       "    .dataframe tbody tr th:only-of-type {\n",
       "        vertical-align: middle;\n",
       "    }\n",
       "\n",
       "    .dataframe tbody tr th {\n",
       "        vertical-align: top;\n",
       "    }\n",
       "\n",
       "    .dataframe thead th {\n",
       "        text-align: right;\n",
       "    }\n",
       "</style>\n",
       "<table border=\"1\" class=\"dataframe\">\n",
       "  <thead>\n",
       "    <tr style=\"text-align: right;\">\n",
       "      <th></th>\n",
       "      <th>vendor_id</th>\n",
       "      <th>passenger_count</th>\n",
       "      <th>pickup_longitude</th>\n",
       "      <th>pickup_latitude</th>\n",
       "      <th>dropoff_longitude</th>\n",
       "      <th>dropoff_latitude</th>\n",
       "      <th>trip_duration</th>\n",
       "    </tr>\n",
       "  </thead>\n",
       "  <tbody>\n",
       "    <tr>\n",
       "      <th>count</th>\n",
       "      <td>1.458644e+06</td>\n",
       "      <td>1.458644e+06</td>\n",
       "      <td>1.458644e+06</td>\n",
       "      <td>1.458644e+06</td>\n",
       "      <td>1.458644e+06</td>\n",
       "      <td>1.458644e+06</td>\n",
       "      <td>1.458644e+06</td>\n",
       "    </tr>\n",
       "    <tr>\n",
       "      <th>mean</th>\n",
       "      <td>1.534950e+00</td>\n",
       "      <td>1.664530e+00</td>\n",
       "      <td>-7.397349e+01</td>\n",
       "      <td>4.075092e+01</td>\n",
       "      <td>-7.397342e+01</td>\n",
       "      <td>4.075180e+01</td>\n",
       "      <td>9.594923e+02</td>\n",
       "    </tr>\n",
       "    <tr>\n",
       "      <th>std</th>\n",
       "      <td>4.987772e-01</td>\n",
       "      <td>1.314242e+00</td>\n",
       "      <td>7.090186e-02</td>\n",
       "      <td>3.288119e-02</td>\n",
       "      <td>7.064327e-02</td>\n",
       "      <td>3.589056e-02</td>\n",
       "      <td>5.237432e+03</td>\n",
       "    </tr>\n",
       "    <tr>\n",
       "      <th>min</th>\n",
       "      <td>1.000000e+00</td>\n",
       "      <td>0.000000e+00</td>\n",
       "      <td>-1.219333e+02</td>\n",
       "      <td>3.435970e+01</td>\n",
       "      <td>-1.219333e+02</td>\n",
       "      <td>3.218114e+01</td>\n",
       "      <td>1.000000e+00</td>\n",
       "    </tr>\n",
       "    <tr>\n",
       "      <th>25%</th>\n",
       "      <td>1.000000e+00</td>\n",
       "      <td>1.000000e+00</td>\n",
       "      <td>-7.399187e+01</td>\n",
       "      <td>4.073735e+01</td>\n",
       "      <td>-7.399133e+01</td>\n",
       "      <td>4.073588e+01</td>\n",
       "      <td>3.970000e+02</td>\n",
       "    </tr>\n",
       "    <tr>\n",
       "      <th>50%</th>\n",
       "      <td>2.000000e+00</td>\n",
       "      <td>1.000000e+00</td>\n",
       "      <td>-7.398174e+01</td>\n",
       "      <td>4.075410e+01</td>\n",
       "      <td>-7.397975e+01</td>\n",
       "      <td>4.075452e+01</td>\n",
       "      <td>6.620000e+02</td>\n",
       "    </tr>\n",
       "    <tr>\n",
       "      <th>75%</th>\n",
       "      <td>2.000000e+00</td>\n",
       "      <td>2.000000e+00</td>\n",
       "      <td>-7.396733e+01</td>\n",
       "      <td>4.076836e+01</td>\n",
       "      <td>-7.396301e+01</td>\n",
       "      <td>4.076981e+01</td>\n",
       "      <td>1.075000e+03</td>\n",
       "    </tr>\n",
       "    <tr>\n",
       "      <th>max</th>\n",
       "      <td>2.000000e+00</td>\n",
       "      <td>9.000000e+00</td>\n",
       "      <td>-6.133553e+01</td>\n",
       "      <td>5.188108e+01</td>\n",
       "      <td>-6.133553e+01</td>\n",
       "      <td>4.392103e+01</td>\n",
       "      <td>3.526282e+06</td>\n",
       "    </tr>\n",
       "  </tbody>\n",
       "</table>\n",
       "</div>"
      ],
      "text/plain": [
       "          vendor_id  passenger_count  pickup_longitude  pickup_latitude  \\\n",
       "count  1.458644e+06     1.458644e+06      1.458644e+06     1.458644e+06   \n",
       "mean   1.534950e+00     1.664530e+00     -7.397349e+01     4.075092e+01   \n",
       "std    4.987772e-01     1.314242e+00      7.090186e-02     3.288119e-02   \n",
       "min    1.000000e+00     0.000000e+00     -1.219333e+02     3.435970e+01   \n",
       "25%    1.000000e+00     1.000000e+00     -7.399187e+01     4.073735e+01   \n",
       "50%    2.000000e+00     1.000000e+00     -7.398174e+01     4.075410e+01   \n",
       "75%    2.000000e+00     2.000000e+00     -7.396733e+01     4.076836e+01   \n",
       "max    2.000000e+00     9.000000e+00     -6.133553e+01     5.188108e+01   \n",
       "\n",
       "       dropoff_longitude  dropoff_latitude  trip_duration  \n",
       "count       1.458644e+06      1.458644e+06   1.458644e+06  \n",
       "mean       -7.397342e+01      4.075180e+01   9.594923e+02  \n",
       "std         7.064327e-02      3.589056e-02   5.237432e+03  \n",
       "min        -1.219333e+02      3.218114e+01   1.000000e+00  \n",
       "25%        -7.399133e+01      4.073588e+01   3.970000e+02  \n",
       "50%        -7.397975e+01      4.075452e+01   6.620000e+02  \n",
       "75%        -7.396301e+01      4.076981e+01   1.075000e+03  \n",
       "max        -6.133553e+01      4.392103e+01   3.526282e+06  "
      ]
     },
     "execution_count": 27,
     "metadata": {},
     "output_type": "execute_result"
    }
   ],
   "source": [
    "df.describe()"
   ]
  },
  {
   "cell_type": "code",
   "execution_count": 28,
   "id": "13c09601",
   "metadata": {},
   "outputs": [
    {
     "name": "stdout",
     "output_type": "stream",
     "text": [
      "<class 'pandas.core.frame.DataFrame'>\n",
      "RangeIndex: 1458644 entries, 0 to 1458643\n",
      "Data columns (total 11 columns):\n",
      " #   Column              Non-Null Count    Dtype  \n",
      "---  ------              --------------    -----  \n",
      " 0   id                  1458644 non-null  object \n",
      " 1   vendor_id           1458644 non-null  int64  \n",
      " 2   pickup_datetime     1458644 non-null  object \n",
      " 3   dropoff_datetime    1458644 non-null  object \n",
      " 4   passenger_count     1458644 non-null  int64  \n",
      " 5   pickup_longitude    1458644 non-null  float64\n",
      " 6   pickup_latitude     1458644 non-null  float64\n",
      " 7   dropoff_longitude   1458644 non-null  float64\n",
      " 8   dropoff_latitude    1458644 non-null  float64\n",
      " 9   store_and_fwd_flag  1458644 non-null  object \n",
      " 10  trip_duration       1458644 non-null  int64  \n",
      "dtypes: float64(4), int64(3), object(4)\n",
      "memory usage: 122.4+ MB\n"
     ]
    }
   ],
   "source": [
    "df.info()"
   ]
  },
  {
   "cell_type": "markdown",
   "id": "2114a192",
   "metadata": {},
   "source": [
    "## Data Cleaning and Filtering "
   ]
  },
  {
   "cell_type": "code",
   "execution_count": 29,
   "id": "e11d7bd6",
   "metadata": {},
   "outputs": [],
   "source": [
    "# dropping the Columns\n",
    "df = df.drop(columns = ['id','store_and_fwd_flag'])"
   ]
  },
  {
   "cell_type": "code",
   "execution_count": 30,
   "id": "00033e2a",
   "metadata": {},
   "outputs": [
    {
     "data": {
      "text/plain": [
       "(1458644, 9)"
      ]
     },
     "execution_count": 30,
     "metadata": {},
     "output_type": "execute_result"
    }
   ],
   "source": [
    "df.shape"
   ]
  },
  {
   "cell_type": "code",
   "execution_count": 31,
   "id": "a9e70abd",
   "metadata": {},
   "outputs": [],
   "source": [
    "# Removing outliers in the Trip_duration data\n",
    "\n",
    "lower, upper = df['trip_duration'].quantile([0.01,0.99])\n",
    "df = df[(df['trip_duration']>=lower) & (df['trip_duration'] <= upper)]"
   ]
  },
  {
   "cell_type": "code",
   "execution_count": 32,
   "id": "0c4ff51f",
   "metadata": {},
   "outputs": [
    {
     "data": {
      "text/plain": [
       "(1429538, 9)"
      ]
     },
     "execution_count": 32,
     "metadata": {},
     "output_type": "execute_result"
    }
   ],
   "source": [
    "df.shape"
   ]
  },
  {
   "cell_type": "markdown",
   "id": "8fda4972",
   "metadata": {},
   "source": [
    "## Feature Engineering"
   ]
  },
  {
   "cell_type": "code",
   "execution_count": 33,
   "id": "0ee1eea6",
   "metadata": {},
   "outputs": [],
   "source": [
    "df['pickup_datetime'] = pd.to_datetime(df['pickup_datetime'])\n",
    "\n",
    "df['pickup_hour'] = df['pickup_datetime'].dt.hour\n",
    "df['pickup_day'] = df['pickup_datetime'].dt.day\n",
    "df['pickup_month'] = df['pickup_datetime'].dt.month\n",
    "df['pickup_weekday'] = df['pickup_datetime'].dt.weekday"
   ]
  },
  {
   "cell_type": "code",
   "execution_count": 34,
   "id": "fc026876",
   "metadata": {},
   "outputs": [],
   "source": [
    "from math import radians, cos, sin, asin, sqrt\n",
    "\n",
    "def haversine(lon1,lat1,lon2,lat2):\n",
    "    \n",
    "    lon1, lat1, lon2, lat1 = map(radians, [lon1,lat1,lon2,lat2])\n",
    "    \n",
    "    dlon = lon2 - lon1\n",
    "    dlat = lat2 - lat1\n",
    "\n",
    "    a  = sin(dlat/2)**2 + cos(lat1) * cos(lat2) * sin(dlon/2)**2\n",
    "    c = 2*asin(sqrt(a))\n",
    "    r = 6371       # Here i have used the mean radious of the earth\n",
    "    return c*r\n"
   ]
  },
  {
   "cell_type": "markdown",
   "id": "ccd58de4",
   "metadata": {},
   "source": [
    "Note: Haversine distance calculates the great-circle distance between two points based on their latitude and longitude."
   ]
  },
  {
   "cell_type": "code",
   "execution_count": null,
   "id": "43dec6e8",
   "metadata": {},
   "outputs": [],
   "source": [
    "# df[\"distance_km\"]= df.apply(lambda row: haversine(\n",
    "#     row['pickup_longitude'],row['pickup_latitude'],\n",
    "#     row['dropoff_longitude'],row['dropoff_latitude']\n",
    "# ),axis=1)"
   ]
  },
  {
   "cell_type": "code",
   "execution_count": 36,
   "id": "7302e719",
   "metadata": {},
   "outputs": [
    {
     "data": {
      "text/html": [
       "<div>\n",
       "<style scoped>\n",
       "    .dataframe tbody tr th:only-of-type {\n",
       "        vertical-align: middle;\n",
       "    }\n",
       "\n",
       "    .dataframe tbody tr th {\n",
       "        vertical-align: top;\n",
       "    }\n",
       "\n",
       "    .dataframe thead th {\n",
       "        text-align: right;\n",
       "    }\n",
       "</style>\n",
       "<table border=\"1\" class=\"dataframe\">\n",
       "  <thead>\n",
       "    <tr style=\"text-align: right;\">\n",
       "      <th></th>\n",
       "      <th>vendor_id</th>\n",
       "      <th>pickup_datetime</th>\n",
       "      <th>dropoff_datetime</th>\n",
       "      <th>passenger_count</th>\n",
       "      <th>pickup_longitude</th>\n",
       "      <th>pickup_latitude</th>\n",
       "      <th>dropoff_longitude</th>\n",
       "      <th>dropoff_latitude</th>\n",
       "      <th>trip_duration</th>\n",
       "      <th>pickup_hour</th>\n",
       "      <th>pickup_day</th>\n",
       "      <th>pickup_month</th>\n",
       "      <th>pickup_weekday</th>\n",
       "      <th>distance_km</th>\n",
       "    </tr>\n",
       "  </thead>\n",
       "  <tbody>\n",
       "    <tr>\n",
       "      <th>942139</th>\n",
       "      <td>1</td>\n",
       "      <td>2016-06-29 11:41:37</td>\n",
       "      <td>2016-06-29 11:51:52</td>\n",
       "      <td>1</td>\n",
       "      <td>-73.983566</td>\n",
       "      <td>40.746513</td>\n",
       "      <td>-73.975098</td>\n",
       "      <td>40.763535</td>\n",
       "      <td>615</td>\n",
       "      <td>11</td>\n",
       "      <td>29</td>\n",
       "      <td>6</td>\n",
       "      <td>2</td>\n",
       "      <td>14990.738732</td>\n",
       "    </tr>\n",
       "    <tr>\n",
       "      <th>1158437</th>\n",
       "      <td>2</td>\n",
       "      <td>2016-05-25 18:39:29</td>\n",
       "      <td>2016-05-25 18:49:17</td>\n",
       "      <td>1</td>\n",
       "      <td>-73.964897</td>\n",
       "      <td>40.775295</td>\n",
       "      <td>-73.951370</td>\n",
       "      <td>40.782768</td>\n",
       "      <td>588</td>\n",
       "      <td>18</td>\n",
       "      <td>25</td>\n",
       "      <td>5</td>\n",
       "      <td>2</td>\n",
       "      <td>15111.137849</td>\n",
       "    </tr>\n",
       "  </tbody>\n",
       "</table>\n",
       "</div>"
      ],
      "text/plain": [
       "         vendor_id     pickup_datetime     dropoff_datetime  passenger_count  \\\n",
       "942139           1 2016-06-29 11:41:37  2016-06-29 11:51:52                1   \n",
       "1158437          2 2016-05-25 18:39:29  2016-05-25 18:49:17                1   \n",
       "\n",
       "         pickup_longitude  pickup_latitude  dropoff_longitude  \\\n",
       "942139         -73.983566        40.746513         -73.975098   \n",
       "1158437        -73.964897        40.775295         -73.951370   \n",
       "\n",
       "         dropoff_latitude  trip_duration  pickup_hour  pickup_day  \\\n",
       "942139          40.763535            615           11          29   \n",
       "1158437         40.782768            588           18          25   \n",
       "\n",
       "         pickup_month  pickup_weekday   distance_km  \n",
       "942139              6               2  14990.738732  \n",
       "1158437             5               2  15111.137849  "
      ]
     },
     "execution_count": 36,
     "metadata": {},
     "output_type": "execute_result"
    }
   ],
   "source": [
    "df.sample(2)"
   ]
  },
  {
   "cell_type": "code",
   "execution_count": 37,
   "id": "df48ecf6",
   "metadata": {},
   "outputs": [],
   "source": [
    "df_model = df[[\n",
    "    'vendor_id', 'passenger_count',\n",
    "    'pickup_hour', 'pickup_day', 'pickup_month', 'pickup_weekday',\n",
    "    'distance_km',\n",
    "    'trip_duration'\n",
    "]]"
   ]
  },
  {
   "cell_type": "code",
   "execution_count": 38,
   "id": "d7800ceb",
   "metadata": {},
   "outputs": [
    {
     "data": {
      "text/html": [
       "<div>\n",
       "<style scoped>\n",
       "    .dataframe tbody tr th:only-of-type {\n",
       "        vertical-align: middle;\n",
       "    }\n",
       "\n",
       "    .dataframe tbody tr th {\n",
       "        vertical-align: top;\n",
       "    }\n",
       "\n",
       "    .dataframe thead th {\n",
       "        text-align: right;\n",
       "    }\n",
       "</style>\n",
       "<table border=\"1\" class=\"dataframe\">\n",
       "  <thead>\n",
       "    <tr style=\"text-align: right;\">\n",
       "      <th></th>\n",
       "      <th>vendor_id</th>\n",
       "      <th>passenger_count</th>\n",
       "      <th>pickup_hour</th>\n",
       "      <th>pickup_day</th>\n",
       "      <th>pickup_month</th>\n",
       "      <th>pickup_weekday</th>\n",
       "      <th>distance_km</th>\n",
       "      <th>trip_duration</th>\n",
       "    </tr>\n",
       "  </thead>\n",
       "  <tbody>\n",
       "    <tr>\n",
       "      <th>0</th>\n",
       "      <td>2</td>\n",
       "      <td>1</td>\n",
       "      <td>17</td>\n",
       "      <td>14</td>\n",
       "      <td>3</td>\n",
       "      <td>0</td>\n",
       "      <td>15003.681048</td>\n",
       "      <td>455</td>\n",
       "    </tr>\n",
       "    <tr>\n",
       "      <th>1</th>\n",
       "      <td>1</td>\n",
       "      <td>1</td>\n",
       "      <td>0</td>\n",
       "      <td>12</td>\n",
       "      <td>6</td>\n",
       "      <td>6</td>\n",
       "      <td>14788.027394</td>\n",
       "      <td>663</td>\n",
       "    </tr>\n",
       "    <tr>\n",
       "      <th>2</th>\n",
       "      <td>2</td>\n",
       "      <td>1</td>\n",
       "      <td>11</td>\n",
       "      <td>19</td>\n",
       "      <td>1</td>\n",
       "      <td>1</td>\n",
       "      <td>14656.165799</td>\n",
       "      <td>2124</td>\n",
       "    </tr>\n",
       "    <tr>\n",
       "      <th>3</th>\n",
       "      <td>2</td>\n",
       "      <td>1</td>\n",
       "      <td>19</td>\n",
       "      <td>6</td>\n",
       "      <td>4</td>\n",
       "      <td>2</td>\n",
       "      <td>14635.081083</td>\n",
       "      <td>429</td>\n",
       "    </tr>\n",
       "    <tr>\n",
       "      <th>4</th>\n",
       "      <td>2</td>\n",
       "      <td>1</td>\n",
       "      <td>13</td>\n",
       "      <td>26</td>\n",
       "      <td>3</td>\n",
       "      <td>5</td>\n",
       "      <td>15109.585890</td>\n",
       "      <td>435</td>\n",
       "    </tr>\n",
       "    <tr>\n",
       "      <th>...</th>\n",
       "      <td>...</td>\n",
       "      <td>...</td>\n",
       "      <td>...</td>\n",
       "      <td>...</td>\n",
       "      <td>...</td>\n",
       "      <td>...</td>\n",
       "      <td>...</td>\n",
       "      <td>...</td>\n",
       "    </tr>\n",
       "    <tr>\n",
       "      <th>1458639</th>\n",
       "      <td>2</td>\n",
       "      <td>4</td>\n",
       "      <td>13</td>\n",
       "      <td>8</td>\n",
       "      <td>4</td>\n",
       "      <td>4</td>\n",
       "      <td>14844.478168</td>\n",
       "      <td>778</td>\n",
       "    </tr>\n",
       "    <tr>\n",
       "      <th>1458640</th>\n",
       "      <td>1</td>\n",
       "      <td>1</td>\n",
       "      <td>7</td>\n",
       "      <td>10</td>\n",
       "      <td>1</td>\n",
       "      <td>6</td>\n",
       "      <td>15197.388921</td>\n",
       "      <td>655</td>\n",
       "    </tr>\n",
       "    <tr>\n",
       "      <th>1458641</th>\n",
       "      <td>2</td>\n",
       "      <td>1</td>\n",
       "      <td>6</td>\n",
       "      <td>22</td>\n",
       "      <td>4</td>\n",
       "      <td>4</td>\n",
       "      <td>14639.162439</td>\n",
       "      <td>764</td>\n",
       "    </tr>\n",
       "    <tr>\n",
       "      <th>1458642</th>\n",
       "      <td>1</td>\n",
       "      <td>1</td>\n",
       "      <td>15</td>\n",
       "      <td>5</td>\n",
       "      <td>1</td>\n",
       "      <td>1</td>\n",
       "      <td>14950.502194</td>\n",
       "      <td>373</td>\n",
       "    </tr>\n",
       "    <tr>\n",
       "      <th>1458643</th>\n",
       "      <td>1</td>\n",
       "      <td>1</td>\n",
       "      <td>14</td>\n",
       "      <td>5</td>\n",
       "      <td>4</td>\n",
       "      <td>1</td>\n",
       "      <td>15160.066600</td>\n",
       "      <td>198</td>\n",
       "    </tr>\n",
       "  </tbody>\n",
       "</table>\n",
       "<p>1429538 rows × 8 columns</p>\n",
       "</div>"
      ],
      "text/plain": [
       "         vendor_id  passenger_count  pickup_hour  pickup_day  pickup_month  \\\n",
       "0                2                1           17          14             3   \n",
       "1                1                1            0          12             6   \n",
       "2                2                1           11          19             1   \n",
       "3                2                1           19           6             4   \n",
       "4                2                1           13          26             3   \n",
       "...            ...              ...          ...         ...           ...   \n",
       "1458639          2                4           13           8             4   \n",
       "1458640          1                1            7          10             1   \n",
       "1458641          2                1            6          22             4   \n",
       "1458642          1                1           15           5             1   \n",
       "1458643          1                1           14           5             4   \n",
       "\n",
       "         pickup_weekday   distance_km  trip_duration  \n",
       "0                     0  15003.681048            455  \n",
       "1                     6  14788.027394            663  \n",
       "2                     1  14656.165799           2124  \n",
       "3                     2  14635.081083            429  \n",
       "4                     5  15109.585890            435  \n",
       "...                 ...           ...            ...  \n",
       "1458639               4  14844.478168            778  \n",
       "1458640               6  15197.388921            655  \n",
       "1458641               4  14639.162439            764  \n",
       "1458642               1  14950.502194            373  \n",
       "1458643               1  15160.066600            198  \n",
       "\n",
       "[1429538 rows x 8 columns]"
      ]
     },
     "execution_count": 38,
     "metadata": {},
     "output_type": "execute_result"
    }
   ],
   "source": [
    "df_model"
   ]
  },
  {
   "cell_type": "markdown",
   "id": "77a7a3a0",
   "metadata": {},
   "source": [
    "## Encodin and Scaling"
   ]
  },
  {
   "cell_type": "code",
   "execution_count": null,
   "id": "97dc7b7f",
   "metadata": {},
   "outputs": [
    {
     "name": "stderr",
     "output_type": "stream",
     "text": [
      "C:\\Users\\USER\\AppData\\Local\\Temp\\ipykernel_11248\\2656992185.py:3: SettingWithCopyWarning: \n",
      "A value is trying to be set on a copy of a slice from a DataFrame.\n",
      "Try using .loc[row_indexer,col_indexer] = value instead\n",
      "\n",
      "See the caveats in the documentation: https://pandas.pydata.org/pandas-docs/stable/user_guide/indexing.html#returning-a-view-versus-a-copy\n",
      "  df_model['vendor_id'] = df_model['vendor_id'].astype(\"category\").cat.codes\n",
      "C:\\Users\\USER\\AppData\\Local\\Temp\\ipykernel_11248\\2656992185.py:5: SettingWithCopyWarning: \n",
      "A value is trying to be set on a copy of a slice from a DataFrame.\n",
      "Try using .loc[row_indexer,col_indexer] = value instead\n",
      "\n",
      "See the caveats in the documentation: https://pandas.pydata.org/pandas-docs/stable/user_guide/indexing.html#returning-a-view-versus-a-copy\n",
      "  df_model[['distance_km','passanger_count']] = scaler.fit_transform(df_model[['distance_km','passenger_count']])\n",
      "C:\\Users\\USER\\AppData\\Local\\Temp\\ipykernel_11248\\2656992185.py:5: SettingWithCopyWarning: \n",
      "A value is trying to be set on a copy of a slice from a DataFrame.\n",
      "Try using .loc[row_indexer,col_indexer] = value instead\n",
      "\n",
      "See the caveats in the documentation: https://pandas.pydata.org/pandas-docs/stable/user_guide/indexing.html#returning-a-view-versus-a-copy\n",
      "  df_model[['distance_km','passanger_count']] = scaler.fit_transform(df_model[['distance_km','passenger_count']])\n"
     ]
    }
   ],
   "source": [
    "from sklearn.preprocessing import StandardScaler\n",
    "\n",
    "df_model['vendor_id'] = df_model['vendor_id'].astype(\"category\")\n",
    "scaler= StandardScaler()\n",
    "df_model[['distance_km','passanger_count']] = scaler.fit_transform(df_model[['distance_km','passenger_count']])"
   ]
  },
  {
   "cell_type": "markdown",
   "id": "1054f922",
   "metadata": {},
   "source": [
    "## Train test split"
   ]
  },
  {
   "cell_type": "code",
   "execution_count": 41,
   "id": "43959292",
   "metadata": {},
   "outputs": [],
   "source": [
    "from sklearn.model_selection import train_test_split\n",
    "x = df_model.drop(columns=['trip_duration'])\n",
    "y = df_model['trip_duration']\n",
    "x_train,x_test,y_train,y_test = train_test_split(x,y,test_size=0.2,random_state=23)"
   ]
  },
  {
   "cell_type": "code",
   "execution_count": 43,
   "id": "ca486ef1",
   "metadata": {},
   "outputs": [
    {
     "name": "stdout",
     "output_type": "stream",
     "text": [
      "Defaulting to user installation because normal site-packages is not writeable\n",
      "Collecting xgboost\n",
      "  Downloading xgboost-3.0.2-py3-none-win_amd64.whl.metadata (2.1 kB)\n",
      "Requirement already satisfied: numpy in c:\\users\\user\\appdata\\local\\packages\\pythonsoftwarefoundation.python.3.12_qbz5n2kfra8p0\\localcache\\local-packages\\python312\\site-packages (from xgboost) (1.26.3)\n",
      "Requirement already satisfied: scipy in c:\\users\\user\\appdata\\local\\packages\\pythonsoftwarefoundation.python.3.12_qbz5n2kfra8p0\\localcache\\local-packages\\python312\\site-packages (from xgboost) (1.15.2)\n",
      "Downloading xgboost-3.0.2-py3-none-win_amd64.whl (150.0 MB)\n",
      "   ---------------------------------------- 0.0/150.0 MB ? eta -:--:--\n",
      "   ---------------------------------------- 0.0/150.0 MB ? eta -:--:--\n",
      "   ---------------------------------------- 0.3/150.0 MB ? eta -:--:--\n",
      "   ---------------------------------------- 0.3/150.0 MB ? eta -:--:--\n",
      "   ---------------------------------------- 0.5/150.0 MB 524.3 kB/s eta 0:04:46\n",
      "   ---------------------------------------- 0.8/150.0 MB 729.2 kB/s eta 0:03:25\n",
      "   ---------------------------------------- 1.0/150.0 MB 915.5 kB/s eta 0:02:43\n",
      "   ---------------------------------------- 1.6/150.0 MB 1.2 MB/s eta 0:02:03\n",
      "    --------------------------------------- 2.1/150.0 MB 1.5 MB/s eta 0:01:39\n",
      "    --------------------------------------- 2.6/150.0 MB 1.5 MB/s eta 0:01:39\n",
      "    --------------------------------------- 3.1/150.0 MB 1.6 MB/s eta 0:01:33\n",
      "    --------------------------------------- 3.7/150.0 MB 1.7 MB/s eta 0:01:28\n",
      "   - -------------------------------------- 4.5/150.0 MB 1.8 MB/s eta 0:01:20\n",
      "   - -------------------------------------- 5.0/150.0 MB 1.9 MB/s eta 0:01:15\n",
      "   - -------------------------------------- 5.8/150.0 MB 2.1 MB/s eta 0:01:10\n",
      "   - -------------------------------------- 6.3/150.0 MB 2.1 MB/s eta 0:01:09\n",
      "   - -------------------------------------- 6.8/150.0 MB 2.1 MB/s eta 0:01:08\n",
      "   - -------------------------------------- 7.3/150.0 MB 2.1 MB/s eta 0:01:08\n",
      "   -- ------------------------------------- 7.9/150.0 MB 2.2 MB/s eta 0:01:06\n",
      "   -- ------------------------------------- 8.4/150.0 MB 2.2 MB/s eta 0:01:06\n",
      "   -- ------------------------------------- 8.9/150.0 MB 2.2 MB/s eta 0:01:05\n",
      "   -- ------------------------------------- 9.4/150.0 MB 2.2 MB/s eta 0:01:03\n",
      "   -- ------------------------------------- 10.2/150.0 MB 2.2 MB/s eta 0:01:03\n",
      "   -- ------------------------------------- 10.7/150.0 MB 2.3 MB/s eta 0:01:01\n",
      "   --- ------------------------------------ 11.5/150.0 MB 2.3 MB/s eta 0:01:00\n",
      "   --- ------------------------------------ 12.3/150.0 MB 2.4 MB/s eta 0:00:58\n",
      "   --- ------------------------------------ 12.8/150.0 MB 2.4 MB/s eta 0:00:58\n",
      "   --- ------------------------------------ 13.4/150.0 MB 2.4 MB/s eta 0:00:58\n",
      "   --- ------------------------------------ 13.9/150.0 MB 2.4 MB/s eta 0:00:57\n",
      "   --- ------------------------------------ 14.4/150.0 MB 2.4 MB/s eta 0:00:57\n",
      "   ---- ----------------------------------- 15.2/150.0 MB 2.4 MB/s eta 0:00:56\n",
      "   ---- ----------------------------------- 15.7/150.0 MB 2.4 MB/s eta 0:00:56\n",
      "   ---- ----------------------------------- 16.5/150.0 MB 2.5 MB/s eta 0:00:55\n",
      "   ---- ----------------------------------- 17.0/150.0 MB 2.5 MB/s eta 0:00:55\n",
      "   ---- ----------------------------------- 17.6/150.0 MB 2.5 MB/s eta 0:00:54\n",
      "   ---- ----------------------------------- 18.1/150.0 MB 2.5 MB/s eta 0:00:54\n",
      "   ---- ----------------------------------- 18.6/150.0 MB 2.5 MB/s eta 0:00:54\n",
      "   ----- ---------------------------------- 19.1/150.0 MB 2.5 MB/s eta 0:00:54\n",
      "   ----- ---------------------------------- 19.7/150.0 MB 2.4 MB/s eta 0:00:54\n",
      "   ----- ---------------------------------- 19.9/150.0 MB 2.5 MB/s eta 0:00:53\n",
      "   ----- ---------------------------------- 20.7/150.0 MB 2.5 MB/s eta 0:00:53\n",
      "   ----- ---------------------------------- 21.2/150.0 MB 2.5 MB/s eta 0:00:53\n",
      "   ----- ---------------------------------- 22.0/150.0 MB 2.5 MB/s eta 0:00:52\n",
      "   ------ --------------------------------- 22.5/150.0 MB 2.5 MB/s eta 0:00:52\n",
      "   ------ --------------------------------- 23.1/150.0 MB 2.5 MB/s eta 0:00:52\n",
      "   ------ --------------------------------- 23.6/150.0 MB 2.5 MB/s eta 0:00:51\n",
      "   ------ --------------------------------- 24.1/150.0 MB 2.5 MB/s eta 0:00:51\n",
      "   ------ --------------------------------- 24.9/150.0 MB 2.5 MB/s eta 0:00:51\n",
      "   ------ --------------------------------- 25.4/150.0 MB 2.5 MB/s eta 0:00:50\n",
      "   ------ --------------------------------- 26.2/150.0 MB 2.5 MB/s eta 0:00:50\n",
      "   ------- -------------------------------- 26.7/150.0 MB 2.5 MB/s eta 0:00:49\n",
      "   ------- -------------------------------- 27.3/150.0 MB 2.5 MB/s eta 0:00:49\n",
      "   ------- -------------------------------- 27.8/150.0 MB 2.5 MB/s eta 0:00:49\n",
      "   ------- -------------------------------- 28.6/150.0 MB 2.5 MB/s eta 0:00:48\n",
      "   ------- -------------------------------- 29.1/150.0 MB 2.5 MB/s eta 0:00:48\n",
      "   ------- -------------------------------- 29.9/150.0 MB 2.5 MB/s eta 0:00:48\n",
      "   -------- ------------------------------- 30.4/150.0 MB 2.5 MB/s eta 0:00:48\n",
      "   -------- ------------------------------- 31.2/150.0 MB 2.6 MB/s eta 0:00:47\n",
      "   -------- ------------------------------- 31.5/150.0 MB 2.5 MB/s eta 0:00:47\n",
      "   -------- ------------------------------- 32.0/150.0 MB 2.5 MB/s eta 0:00:47\n",
      "   -------- ------------------------------- 32.8/150.0 MB 2.6 MB/s eta 0:00:46\n",
      "   -------- ------------------------------- 33.3/150.0 MB 2.5 MB/s eta 0:00:46\n",
      "   --------- ------------------------------ 33.8/150.0 MB 2.5 MB/s eta 0:00:46\n",
      "   --------- ------------------------------ 34.1/150.0 MB 2.5 MB/s eta 0:00:46\n",
      "   --------- ------------------------------ 34.6/150.0 MB 2.5 MB/s eta 0:00:46\n",
      "   --------- ------------------------------ 35.1/150.0 MB 2.5 MB/s eta 0:00:46\n",
      "   --------- ------------------------------ 35.7/150.0 MB 2.5 MB/s eta 0:00:46\n",
      "   --------- ------------------------------ 36.2/150.0 MB 2.5 MB/s eta 0:00:46\n",
      "   --------- ------------------------------ 36.7/150.0 MB 2.5 MB/s eta 0:00:45\n",
      "   --------- ------------------------------ 37.0/150.0 MB 2.5 MB/s eta 0:00:45\n",
      "   ---------- ----------------------------- 37.7/150.0 MB 2.5 MB/s eta 0:00:45\n",
      "   ---------- ----------------------------- 38.5/150.0 MB 2.5 MB/s eta 0:00:45\n",
      "   ---------- ----------------------------- 39.1/150.0 MB 2.5 MB/s eta 0:00:44\n",
      "   ---------- ----------------------------- 39.6/150.0 MB 2.5 MB/s eta 0:00:44\n",
      "   ---------- ----------------------------- 40.1/150.0 MB 2.5 MB/s eta 0:00:44\n",
      "   ---------- ----------------------------- 40.9/150.0 MB 2.5 MB/s eta 0:00:43\n",
      "   ----------- ---------------------------- 41.4/150.0 MB 2.5 MB/s eta 0:00:43\n",
      "   ----------- ---------------------------- 42.2/150.0 MB 2.5 MB/s eta 0:00:43\n",
      "   ----------- ---------------------------- 42.7/150.0 MB 2.5 MB/s eta 0:00:43\n",
      "   ----------- ---------------------------- 43.3/150.0 MB 2.5 MB/s eta 0:00:43\n",
      "   ----------- ---------------------------- 43.5/150.0 MB 2.5 MB/s eta 0:00:42\n",
      "   ----------- ---------------------------- 44.3/150.0 MB 2.5 MB/s eta 0:00:42\n",
      "   ------------ --------------------------- 45.1/150.0 MB 2.6 MB/s eta 0:00:42\n",
      "   ------------ --------------------------- 45.6/150.0 MB 2.6 MB/s eta 0:00:41\n",
      "   ------------ --------------------------- 46.1/150.0 MB 2.6 MB/s eta 0:00:41\n",
      "   ------------ --------------------------- 46.7/150.0 MB 2.6 MB/s eta 0:00:41\n",
      "   ------------ --------------------------- 47.2/150.0 MB 2.6 MB/s eta 0:00:41\n",
      "   ------------ --------------------------- 48.0/150.0 MB 2.6 MB/s eta 0:00:40\n",
      "   ------------ --------------------------- 48.5/150.0 MB 2.6 MB/s eta 0:00:40\n",
      "   ------------- -------------------------- 48.8/150.0 MB 2.6 MB/s eta 0:00:40\n",
      "   ------------- -------------------------- 49.3/150.0 MB 2.5 MB/s eta 0:00:40\n",
      "   ------------- -------------------------- 49.5/150.0 MB 2.5 MB/s eta 0:00:40\n",
      "   ------------- -------------------------- 50.1/150.0 MB 2.5 MB/s eta 0:00:40\n",
      "   ------------- -------------------------- 50.6/150.0 MB 2.5 MB/s eta 0:00:40\n",
      "   ------------- -------------------------- 51.4/150.0 MB 2.5 MB/s eta 0:00:39\n",
      "   ------------- -------------------------- 51.6/150.0 MB 2.5 MB/s eta 0:00:39\n",
      "   ------------- -------------------------- 52.2/150.0 MB 2.5 MB/s eta 0:00:39\n",
      "   -------------- ------------------------- 53.5/150.0 MB 2.6 MB/s eta 0:00:38\n",
      "   -------------- ------------------------- 54.8/150.0 MB 2.6 MB/s eta 0:00:37\n",
      "   -------------- ------------------------- 55.1/150.0 MB 2.6 MB/s eta 0:00:37\n",
      "   -------------- ------------------------- 55.8/150.0 MB 2.6 MB/s eta 0:00:37\n",
      "   --------------- ------------------------ 57.4/150.0 MB 2.6 MB/s eta 0:00:36\n",
      "   --------------- ------------------------ 58.2/150.0 MB 2.6 MB/s eta 0:00:35\n",
      "   --------------- ------------------------ 59.0/150.0 MB 2.7 MB/s eta 0:00:35\n",
      "   ---------------- ----------------------- 60.3/150.0 MB 2.7 MB/s eta 0:00:34\n",
      "   ---------------- ----------------------- 61.1/150.0 MB 2.7 MB/s eta 0:00:33\n",
      "   ---------------- ----------------------- 61.6/150.0 MB 2.7 MB/s eta 0:00:33\n",
      "   ---------------- ----------------------- 62.7/150.0 MB 2.7 MB/s eta 0:00:33\n",
      "   ----------------- ---------------------- 64.0/150.0 MB 2.7 MB/s eta 0:00:32\n",
      "   ----------------- ---------------------- 64.7/150.0 MB 2.7 MB/s eta 0:00:31\n",
      "   ----------------- ---------------------- 65.5/150.0 MB 2.8 MB/s eta 0:00:31\n",
      "   ----------------- ---------------------- 66.6/150.0 MB 2.8 MB/s eta 0:00:30\n",
      "   ----------------- ---------------------- 67.4/150.0 MB 2.8 MB/s eta 0:00:30\n",
      "   ------------------ --------------------- 67.9/150.0 MB 2.8 MB/s eta 0:00:30\n",
      "   ------------------ --------------------- 69.2/150.0 MB 2.8 MB/s eta 0:00:29\n",
      "   ------------------ --------------------- 70.0/150.0 MB 2.8 MB/s eta 0:00:29\n",
      "   ------------------ --------------------- 70.8/150.0 MB 2.8 MB/s eta 0:00:28\n",
      "   ------------------- -------------------- 71.6/150.0 MB 2.8 MB/s eta 0:00:28\n",
      "   ------------------- -------------------- 72.9/150.0 MB 2.9 MB/s eta 0:00:27\n",
      "   ------------------- -------------------- 73.9/150.0 MB 2.9 MB/s eta 0:00:27\n",
      "   ------------------- -------------------- 74.4/150.0 MB 2.9 MB/s eta 0:00:27\n",
      "   -------------------- ------------------- 75.8/150.0 MB 2.9 MB/s eta 0:00:26\n",
      "   -------------------- ------------------- 76.5/150.0 MB 2.9 MB/s eta 0:00:26\n",
      "   -------------------- ------------------- 77.1/150.0 MB 2.9 MB/s eta 0:00:26\n",
      "   -------------------- ------------------- 78.1/150.0 MB 2.9 MB/s eta 0:00:25\n",
      "   --------------------- ------------------ 79.2/150.0 MB 2.9 MB/s eta 0:00:25\n",
      "   --------------------- ------------------ 79.4/150.0 MB 2.9 MB/s eta 0:00:25\n",
      "   --------------------- ------------------ 80.5/150.0 MB 2.9 MB/s eta 0:00:24\n",
      "   --------------------- ------------------ 82.1/150.0 MB 3.0 MB/s eta 0:00:23\n",
      "   ---------------------- ----------------- 82.8/150.0 MB 3.0 MB/s eta 0:00:23\n",
      "   ---------------------- ----------------- 83.4/150.0 MB 3.0 MB/s eta 0:00:23\n",
      "   ---------------------- ----------------- 84.4/150.0 MB 3.0 MB/s eta 0:00:22\n",
      "   ---------------------- ----------------- 85.5/150.0 MB 3.0 MB/s eta 0:00:22\n",
      "   ---------------------- ----------------- 86.0/150.0 MB 3.0 MB/s eta 0:00:22\n",
      "   ----------------------- ---------------- 86.8/150.0 MB 3.0 MB/s eta 0:00:22\n",
      "   ----------------------- ---------------- 88.1/150.0 MB 3.0 MB/s eta 0:00:21\n",
      "   ----------------------- ---------------- 88.6/150.0 MB 3.0 MB/s eta 0:00:21\n",
      "   ----------------------- ---------------- 89.7/150.0 MB 3.0 MB/s eta 0:00:20\n",
      "   ------------------------ --------------- 90.7/150.0 MB 3.0 MB/s eta 0:00:20\n",
      "   ------------------------ --------------- 91.8/150.0 MB 3.1 MB/s eta 0:00:20\n",
      "   ------------------------ --------------- 92.3/150.0 MB 3.1 MB/s eta 0:00:19\n",
      "   ------------------------ --------------- 93.1/150.0 MB 3.1 MB/s eta 0:00:19\n",
      "   ------------------------- -------------- 94.4/150.0 MB 3.1 MB/s eta 0:00:18\n",
      "   ------------------------- -------------- 94.9/150.0 MB 3.1 MB/s eta 0:00:18\n",
      "   ------------------------- -------------- 95.7/150.0 MB 3.1 MB/s eta 0:00:18\n",
      "   ------------------------- -------------- 97.0/150.0 MB 3.2 MB/s eta 0:00:17\n",
      "   ------------------------- -------------- 97.3/150.0 MB 3.2 MB/s eta 0:00:17\n",
      "   -------------------------- ------------- 98.3/150.0 MB 3.2 MB/s eta 0:00:17\n",
      "   -------------------------- ------------- 99.9/150.0 MB 3.2 MB/s eta 0:00:16\n",
      "   -------------------------- ------------- 100.1/150.0 MB 3.2 MB/s eta 0:00:16\n",
      "   -------------------------- ------------- 100.9/150.0 MB 3.2 MB/s eta 0:00:16\n",
      "   --------------------------- ------------ 102.2/150.0 MB 3.2 MB/s eta 0:00:15\n",
      "   --------------------------- ------------ 103.0/150.0 MB 3.2 MB/s eta 0:00:15\n",
      "   --------------------------- ------------ 103.5/150.0 MB 3.2 MB/s eta 0:00:15\n",
      "   --------------------------- ------------ 104.6/150.0 MB 3.3 MB/s eta 0:00:14\n",
      "   ---------------------------- ----------- 105.4/150.0 MB 3.3 MB/s eta 0:00:14\n",
      "   ---------------------------- ----------- 105.6/150.0 MB 3.3 MB/s eta 0:00:14\n",
      "   ---------------------------- ----------- 106.7/150.0 MB 3.3 MB/s eta 0:00:14\n",
      "   ---------------------------- ----------- 107.7/150.0 MB 3.3 MB/s eta 0:00:13\n",
      "   ---------------------------- ----------- 108.5/150.0 MB 3.3 MB/s eta 0:00:13\n",
      "   ----------------------------- ---------- 109.1/150.0 MB 3.3 MB/s eta 0:00:13\n",
      "   ----------------------------- ---------- 110.4/150.0 MB 3.3 MB/s eta 0:00:12\n",
      "   ----------------------------- ---------- 111.7/150.0 MB 3.3 MB/s eta 0:00:12\n",
      "   ----------------------------- ---------- 112.2/150.0 MB 3.3 MB/s eta 0:00:12\n",
      "   ------------------------------ --------- 113.2/150.0 MB 3.3 MB/s eta 0:00:11\n",
      "   ------------------------------ --------- 114.6/150.0 MB 3.4 MB/s eta 0:00:11\n",
      "   ------------------------------ --------- 115.1/150.0 MB 3.4 MB/s eta 0:00:11\n",
      "   ------------------------------ --------- 115.9/150.0 MB 3.4 MB/s eta 0:00:11\n",
      "   ------------------------------- -------- 117.4/150.0 MB 3.4 MB/s eta 0:00:10\n",
      "   ------------------------------- -------- 118.2/150.0 MB 3.4 MB/s eta 0:00:10\n",
      "   ------------------------------- -------- 118.8/150.0 MB 3.4 MB/s eta 0:00:10\n",
      "   -------------------------------- ------- 120.1/150.0 MB 3.4 MB/s eta 0:00:09\n",
      "   -------------------------------- ------- 121.4/150.0 MB 3.5 MB/s eta 0:00:09\n",
      "   -------------------------------- ------- 121.9/150.0 MB 3.5 MB/s eta 0:00:09\n",
      "   -------------------------------- ------- 122.9/150.0 MB 3.5 MB/s eta 0:00:08\n",
      "   --------------------------------- ------ 124.3/150.0 MB 3.5 MB/s eta 0:00:08\n",
      "   --------------------------------- ------ 125.0/150.0 MB 3.5 MB/s eta 0:00:08\n",
      "   --------------------------------- ------ 125.6/150.0 MB 3.5 MB/s eta 0:00:07\n",
      "   --------------------------------- ------ 127.1/150.0 MB 3.5 MB/s eta 0:00:07\n",
      "   ---------------------------------- ----- 127.9/150.0 MB 3.5 MB/s eta 0:00:07\n",
      "   ---------------------------------- ----- 128.5/150.0 MB 3.5 MB/s eta 0:00:07\n",
      "   ---------------------------------- ----- 129.8/150.0 MB 3.6 MB/s eta 0:00:06\n",
      "   ---------------------------------- ----- 130.8/150.0 MB 3.6 MB/s eta 0:00:06\n",
      "   ---------------------------------- ----- 130.8/150.0 MB 3.6 MB/s eta 0:00:06\n",
      "   ----------------------------------- ---- 131.3/150.0 MB 3.6 MB/s eta 0:00:06\n",
      "   ----------------------------------- ---- 132.6/150.0 MB 3.6 MB/s eta 0:00:05\n",
      "   ----------------------------------- ---- 133.2/150.0 MB 3.6 MB/s eta 0:00:05\n",
      "   ----------------------------------- ---- 134.5/150.0 MB 3.6 MB/s eta 0:00:05\n",
      "   ------------------------------------ --- 135.5/150.0 MB 3.6 MB/s eta 0:00:04\n",
      "   ------------------------------------ --- 136.6/150.0 MB 3.6 MB/s eta 0:00:04\n",
      "   ------------------------------------ --- 137.6/150.0 MB 3.6 MB/s eta 0:00:04\n",
      "   ------------------------------------- -- 139.2/150.0 MB 3.7 MB/s eta 0:00:03\n",
      "   ------------------------------------- -- 139.7/150.0 MB 3.7 MB/s eta 0:00:03\n",
      "   ------------------------------------- -- 140.2/150.0 MB 3.7 MB/s eta 0:00:03\n",
      "   ------------------------------------- -- 141.6/150.0 MB 3.7 MB/s eta 0:00:03\n",
      "   -------------------------------------- - 142.6/150.0 MB 3.7 MB/s eta 0:00:02\n",
      "   -------------------------------------- - 142.9/150.0 MB 3.7 MB/s eta 0:00:02\n",
      "   -------------------------------------- - 144.2/150.0 MB 3.7 MB/s eta 0:00:02\n",
      "   -------------------------------------- - 145.5/150.0 MB 3.7 MB/s eta 0:00:02\n",
      "   -------------------------------------- - 146.0/150.0 MB 3.7 MB/s eta 0:00:02\n",
      "   ---------------------------------------  146.5/150.0 MB 3.8 MB/s eta 0:00:01\n",
      "   ---------------------------------------  147.8/150.0 MB 3.8 MB/s eta 0:00:01\n",
      "   ---------------------------------------  149.4/150.0 MB 3.8 MB/s eta 0:00:01\n",
      "   ---------------------------------------  149.9/150.0 MB 3.8 MB/s eta 0:00:01\n",
      "   ---------------------------------------  149.9/150.0 MB 3.8 MB/s eta 0:00:01\n",
      "   ---------------------------------------- 150.0/150.0 MB 3.8 MB/s eta 0:00:00\n",
      "Installing collected packages: xgboost\n",
      "Successfully installed xgboost-3.0.2\n"
     ]
    },
    {
     "name": "stderr",
     "output_type": "stream",
     "text": [
      "\n",
      "[notice] A new release of pip is available: 25.0.1 -> 25.1.1\n",
      "[notice] To update, run: C:\\Users\\USER\\AppData\\Local\\Microsoft\\WindowsApps\\PythonSoftwareFoundation.Python.3.12_qbz5n2kfra8p0\\python.exe -m pip install --upgrade pip\n"
     ]
    }
   ],
   "source": [
    "! pip install xgboost"
   ]
  },
  {
   "cell_type": "code",
   "execution_count": 45,
   "id": "b93072d2",
   "metadata": {},
   "outputs": [
    {
     "name": "stdout",
     "output_type": "stream",
     "text": [
      "rmsle is  0.4538\n"
     ]
    }
   ],
   "source": [
    "from xgboost import XGBRegressor\n",
    "from sklearn.metrics import mean_squared_log_error, mean_squared_error, r2_score\n",
    "\n",
    "model= XGBRegressor(n_estimators=100, max_depth=6)\n",
    "model.fit(x_train,y_train)\n",
    "\n",
    "y_pred= model.predict(x_test)\n",
    "rmsle = mean_squared_log_error(y_test,y_pred)\n",
    "print(f\"rmsle is {rmsle: .4f}\")"
   ]
  },
  {
   "cell_type": "code",
   "execution_count": 46,
   "id": "e65aa7dc",
   "metadata": {},
   "outputs": [
    {
     "data": {
      "text/plain": [
       "0.1885969042778015"
      ]
     },
     "execution_count": 46,
     "metadata": {},
     "output_type": "execute_result"
    }
   ],
   "source": [
    "r2_score(y_test,y_pred)"
   ]
  },
  {
   "cell_type": "code",
   "execution_count": 48,
   "id": "2cddc6f3",
   "metadata": {},
   "outputs": [],
   "source": [
    "from sklearn.tree import DecisionTreeRegressor"
   ]
  },
  {
   "cell_type": "code",
   "execution_count": 49,
   "id": "f02bf2f6",
   "metadata": {},
   "outputs": [
    {
     "name": "stdout",
     "output_type": "stream",
     "text": [
      "r2_score 0.1885969042778015\n"
     ]
    }
   ],
   "source": [
    "dt = DecisionTreeRegressor()\n",
    "dt.fit(x_train,y_train)\n",
    "ypdt = dt.predict(x_test)\n",
    "print(\"r2_score\", r2_score(y_test,y_pred))"
   ]
  },
  {
   "cell_type": "code",
   "execution_count": 50,
   "id": "0f3ca7f4",
   "metadata": {},
   "outputs": [
    {
     "data": {
      "text/plain": [
       "-0.6737403250082756"
      ]
     },
     "execution_count": 50,
     "metadata": {},
     "output_type": "execute_result"
    }
   ],
   "source": [
    "r2_score(y_test,ypdt)"
   ]
  },
  {
   "cell_type": "code",
   "execution_count": 51,
   "id": "9ac4d092",
   "metadata": {},
   "outputs": [
    {
     "name": "stdout",
     "output_type": "stream",
     "text": [
      "0.0325886366121525\n"
     ]
    }
   ],
   "source": [
    "from sklearn.linear_model import LinearRegression\n",
    "lr = LinearRegression()\n",
    "lr.fit(x_train,y_train)\n",
    "lrpt = lr.predict(x_test)\n",
    "print(r2_score(y_test,lrpt))"
   ]
  },
  {
   "cell_type": "code",
   "execution_count": 52,
   "id": "3bd7b16e",
   "metadata": {},
   "outputs": [
    {
     "ename": "KeyboardInterrupt",
     "evalue": "",
     "output_type": "error",
     "traceback": [
      "\u001b[31m---------------------------------------------------------------------------\u001b[39m",
      "\u001b[31mKeyboardInterrupt\u001b[39m                         Traceback (most recent call last)",
      "\u001b[36mCell\u001b[39m\u001b[36m \u001b[39m\u001b[32mIn[52]\u001b[39m\u001b[32m, line 3\u001b[39m\n\u001b[32m      1\u001b[39m \u001b[38;5;28;01mfrom\u001b[39;00m\u001b[38;5;250m \u001b[39m\u001b[34;01msklearn\u001b[39;00m\u001b[34;01m.\u001b[39;00m\u001b[34;01mensemble\u001b[39;00m\u001b[38;5;250m \u001b[39m\u001b[38;5;28;01mimport\u001b[39;00m RandomForestRegressor\n\u001b[32m      2\u001b[39m rf = RandomForestRegressor()\n\u001b[32m----> \u001b[39m\u001b[32m3\u001b[39m \u001b[43mrf\u001b[49m\u001b[43m.\u001b[49m\u001b[43mfit\u001b[49m\u001b[43m(\u001b[49m\u001b[43mx_train\u001b[49m\u001b[43m,\u001b[49m\u001b[43my_train\u001b[49m\u001b[43m)\u001b[49m\n\u001b[32m      4\u001b[39m rfpt= rf.predict(x_test)\n\u001b[32m      5\u001b[39m r2_score(y_test,rfpt)\n",
      "\u001b[36mFile \u001b[39m\u001b[32m~\\AppData\\Local\\Packages\\PythonSoftwareFoundation.Python.3.12_qbz5n2kfra8p0\\LocalCache\\local-packages\\Python312\\site-packages\\sklearn\\base.py:1389\u001b[39m, in \u001b[36m_fit_context.<locals>.decorator.<locals>.wrapper\u001b[39m\u001b[34m(estimator, *args, **kwargs)\u001b[39m\n\u001b[32m   1382\u001b[39m     estimator._validate_params()\n\u001b[32m   1384\u001b[39m \u001b[38;5;28;01mwith\u001b[39;00m config_context(\n\u001b[32m   1385\u001b[39m     skip_parameter_validation=(\n\u001b[32m   1386\u001b[39m         prefer_skip_nested_validation \u001b[38;5;129;01mor\u001b[39;00m global_skip_validation\n\u001b[32m   1387\u001b[39m     )\n\u001b[32m   1388\u001b[39m ):\n\u001b[32m-> \u001b[39m\u001b[32m1389\u001b[39m     \u001b[38;5;28;01mreturn\u001b[39;00m \u001b[43mfit_method\u001b[49m\u001b[43m(\u001b[49m\u001b[43mestimator\u001b[49m\u001b[43m,\u001b[49m\u001b[43m \u001b[49m\u001b[43m*\u001b[49m\u001b[43margs\u001b[49m\u001b[43m,\u001b[49m\u001b[43m \u001b[49m\u001b[43m*\u001b[49m\u001b[43m*\u001b[49m\u001b[43mkwargs\u001b[49m\u001b[43m)\u001b[49m\n",
      "\u001b[36mFile \u001b[39m\u001b[32m~\\AppData\\Local\\Packages\\PythonSoftwareFoundation.Python.3.12_qbz5n2kfra8p0\\LocalCache\\local-packages\\Python312\\site-packages\\sklearn\\ensemble\\_forest.py:487\u001b[39m, in \u001b[36mBaseForest.fit\u001b[39m\u001b[34m(self, X, y, sample_weight)\u001b[39m\n\u001b[32m    476\u001b[39m trees = [\n\u001b[32m    477\u001b[39m     \u001b[38;5;28mself\u001b[39m._make_estimator(append=\u001b[38;5;28;01mFalse\u001b[39;00m, random_state=random_state)\n\u001b[32m    478\u001b[39m     \u001b[38;5;28;01mfor\u001b[39;00m i \u001b[38;5;129;01min\u001b[39;00m \u001b[38;5;28mrange\u001b[39m(n_more_estimators)\n\u001b[32m    479\u001b[39m ]\n\u001b[32m    481\u001b[39m \u001b[38;5;66;03m# Parallel loop: we prefer the threading backend as the Cython code\u001b[39;00m\n\u001b[32m    482\u001b[39m \u001b[38;5;66;03m# for fitting the trees is internally releasing the Python GIL\u001b[39;00m\n\u001b[32m    483\u001b[39m \u001b[38;5;66;03m# making threading more efficient than multiprocessing in\u001b[39;00m\n\u001b[32m    484\u001b[39m \u001b[38;5;66;03m# that case. However, for joblib 0.12+ we respect any\u001b[39;00m\n\u001b[32m    485\u001b[39m \u001b[38;5;66;03m# parallel_backend contexts set at a higher level,\u001b[39;00m\n\u001b[32m    486\u001b[39m \u001b[38;5;66;03m# since correctness does not rely on using threads.\u001b[39;00m\n\u001b[32m--> \u001b[39m\u001b[32m487\u001b[39m trees = \u001b[43mParallel\u001b[49m\u001b[43m(\u001b[49m\n\u001b[32m    488\u001b[39m \u001b[43m    \u001b[49m\u001b[43mn_jobs\u001b[49m\u001b[43m=\u001b[49m\u001b[38;5;28;43mself\u001b[39;49m\u001b[43m.\u001b[49m\u001b[43mn_jobs\u001b[49m\u001b[43m,\u001b[49m\n\u001b[32m    489\u001b[39m \u001b[43m    \u001b[49m\u001b[43mverbose\u001b[49m\u001b[43m=\u001b[49m\u001b[38;5;28;43mself\u001b[39;49m\u001b[43m.\u001b[49m\u001b[43mverbose\u001b[49m\u001b[43m,\u001b[49m\n\u001b[32m    490\u001b[39m \u001b[43m    \u001b[49m\u001b[43mprefer\u001b[49m\u001b[43m=\u001b[49m\u001b[33;43m\"\u001b[39;49m\u001b[33;43mthreads\u001b[39;49m\u001b[33;43m\"\u001b[39;49m\u001b[43m,\u001b[49m\n\u001b[32m    491\u001b[39m \u001b[43m\u001b[49m\u001b[43m)\u001b[49m\u001b[43m(\u001b[49m\n\u001b[32m    492\u001b[39m \u001b[43m    \u001b[49m\u001b[43mdelayed\u001b[49m\u001b[43m(\u001b[49m\u001b[43m_parallel_build_trees\u001b[49m\u001b[43m)\u001b[49m\u001b[43m(\u001b[49m\n\u001b[32m    493\u001b[39m \u001b[43m        \u001b[49m\u001b[43mt\u001b[49m\u001b[43m,\u001b[49m\n\u001b[32m    494\u001b[39m \u001b[43m        \u001b[49m\u001b[38;5;28;43mself\u001b[39;49m\u001b[43m.\u001b[49m\u001b[43mbootstrap\u001b[49m\u001b[43m,\u001b[49m\n\u001b[32m    495\u001b[39m \u001b[43m        \u001b[49m\u001b[43mX\u001b[49m\u001b[43m,\u001b[49m\n\u001b[32m    496\u001b[39m \u001b[43m        \u001b[49m\u001b[43my\u001b[49m\u001b[43m,\u001b[49m\n\u001b[32m    497\u001b[39m \u001b[43m        \u001b[49m\u001b[43msample_weight\u001b[49m\u001b[43m,\u001b[49m\n\u001b[32m    498\u001b[39m \u001b[43m        \u001b[49m\u001b[43mi\u001b[49m\u001b[43m,\u001b[49m\n\u001b[32m    499\u001b[39m \u001b[43m        \u001b[49m\u001b[38;5;28;43mlen\u001b[39;49m\u001b[43m(\u001b[49m\u001b[43mtrees\u001b[49m\u001b[43m)\u001b[49m\u001b[43m,\u001b[49m\n\u001b[32m    500\u001b[39m \u001b[43m        \u001b[49m\u001b[43mverbose\u001b[49m\u001b[43m=\u001b[49m\u001b[38;5;28;43mself\u001b[39;49m\u001b[43m.\u001b[49m\u001b[43mverbose\u001b[49m\u001b[43m,\u001b[49m\n\u001b[32m    501\u001b[39m \u001b[43m        \u001b[49m\u001b[43mclass_weight\u001b[49m\u001b[43m=\u001b[49m\u001b[38;5;28;43mself\u001b[39;49m\u001b[43m.\u001b[49m\u001b[43mclass_weight\u001b[49m\u001b[43m,\u001b[49m\n\u001b[32m    502\u001b[39m \u001b[43m        \u001b[49m\u001b[43mn_samples_bootstrap\u001b[49m\u001b[43m=\u001b[49m\u001b[43mn_samples_bootstrap\u001b[49m\u001b[43m,\u001b[49m\n\u001b[32m    503\u001b[39m \u001b[43m        \u001b[49m\u001b[43mmissing_values_in_feature_mask\u001b[49m\u001b[43m=\u001b[49m\u001b[43mmissing_values_in_feature_mask\u001b[49m\u001b[43m,\u001b[49m\n\u001b[32m    504\u001b[39m \u001b[43m    \u001b[49m\u001b[43m)\u001b[49m\n\u001b[32m    505\u001b[39m \u001b[43m    \u001b[49m\u001b[38;5;28;43;01mfor\u001b[39;49;00m\u001b[43m \u001b[49m\u001b[43mi\u001b[49m\u001b[43m,\u001b[49m\u001b[43m \u001b[49m\u001b[43mt\u001b[49m\u001b[43m \u001b[49m\u001b[38;5;129;43;01min\u001b[39;49;00m\u001b[43m \u001b[49m\u001b[38;5;28;43menumerate\u001b[39;49m\u001b[43m(\u001b[49m\u001b[43mtrees\u001b[49m\u001b[43m)\u001b[49m\n\u001b[32m    506\u001b[39m \u001b[43m\u001b[49m\u001b[43m)\u001b[49m\n\u001b[32m    508\u001b[39m \u001b[38;5;66;03m# Collect newly grown trees\u001b[39;00m\n\u001b[32m    509\u001b[39m \u001b[38;5;28mself\u001b[39m.estimators_.extend(trees)\n",
      "\u001b[36mFile \u001b[39m\u001b[32m~\\AppData\\Local\\Packages\\PythonSoftwareFoundation.Python.3.12_qbz5n2kfra8p0\\LocalCache\\local-packages\\Python312\\site-packages\\sklearn\\utils\\parallel.py:77\u001b[39m, in \u001b[36mParallel.__call__\u001b[39m\u001b[34m(self, iterable)\u001b[39m\n\u001b[32m     72\u001b[39m config = get_config()\n\u001b[32m     73\u001b[39m iterable_with_config = (\n\u001b[32m     74\u001b[39m     (_with_config(delayed_func, config), args, kwargs)\n\u001b[32m     75\u001b[39m     \u001b[38;5;28;01mfor\u001b[39;00m delayed_func, args, kwargs \u001b[38;5;129;01min\u001b[39;00m iterable\n\u001b[32m     76\u001b[39m )\n\u001b[32m---> \u001b[39m\u001b[32m77\u001b[39m \u001b[38;5;28;01mreturn\u001b[39;00m \u001b[38;5;28;43msuper\u001b[39;49m\u001b[43m(\u001b[49m\u001b[43m)\u001b[49m\u001b[43m.\u001b[49m\u001b[34;43m__call__\u001b[39;49m\u001b[43m(\u001b[49m\u001b[43miterable_with_config\u001b[49m\u001b[43m)\u001b[49m\n",
      "\u001b[36mFile \u001b[39m\u001b[32m~\\AppData\\Local\\Packages\\PythonSoftwareFoundation.Python.3.12_qbz5n2kfra8p0\\LocalCache\\local-packages\\Python312\\site-packages\\joblib\\parallel.py:1918\u001b[39m, in \u001b[36mParallel.__call__\u001b[39m\u001b[34m(self, iterable)\u001b[39m\n\u001b[32m   1916\u001b[39m     output = \u001b[38;5;28mself\u001b[39m._get_sequential_output(iterable)\n\u001b[32m   1917\u001b[39m     \u001b[38;5;28mnext\u001b[39m(output)\n\u001b[32m-> \u001b[39m\u001b[32m1918\u001b[39m     \u001b[38;5;28;01mreturn\u001b[39;00m output \u001b[38;5;28;01mif\u001b[39;00m \u001b[38;5;28mself\u001b[39m.return_generator \u001b[38;5;28;01melse\u001b[39;00m \u001b[38;5;28;43mlist\u001b[39;49m\u001b[43m(\u001b[49m\u001b[43moutput\u001b[49m\u001b[43m)\u001b[49m\n\u001b[32m   1920\u001b[39m \u001b[38;5;66;03m# Let's create an ID that uniquely identifies the current call. If the\u001b[39;00m\n\u001b[32m   1921\u001b[39m \u001b[38;5;66;03m# call is interrupted early and that the same instance is immediately\u001b[39;00m\n\u001b[32m   1922\u001b[39m \u001b[38;5;66;03m# re-used, this id will be used to prevent workers that were\u001b[39;00m\n\u001b[32m   1923\u001b[39m \u001b[38;5;66;03m# concurrently finalizing a task from the previous call to run the\u001b[39;00m\n\u001b[32m   1924\u001b[39m \u001b[38;5;66;03m# callback.\u001b[39;00m\n\u001b[32m   1925\u001b[39m \u001b[38;5;28;01mwith\u001b[39;00m \u001b[38;5;28mself\u001b[39m._lock:\n",
      "\u001b[36mFile \u001b[39m\u001b[32m~\\AppData\\Local\\Packages\\PythonSoftwareFoundation.Python.3.12_qbz5n2kfra8p0\\LocalCache\\local-packages\\Python312\\site-packages\\joblib\\parallel.py:1847\u001b[39m, in \u001b[36mParallel._get_sequential_output\u001b[39m\u001b[34m(self, iterable)\u001b[39m\n\u001b[32m   1845\u001b[39m \u001b[38;5;28mself\u001b[39m.n_dispatched_batches += \u001b[32m1\u001b[39m\n\u001b[32m   1846\u001b[39m \u001b[38;5;28mself\u001b[39m.n_dispatched_tasks += \u001b[32m1\u001b[39m\n\u001b[32m-> \u001b[39m\u001b[32m1847\u001b[39m res = \u001b[43mfunc\u001b[49m\u001b[43m(\u001b[49m\u001b[43m*\u001b[49m\u001b[43margs\u001b[49m\u001b[43m,\u001b[49m\u001b[43m \u001b[49m\u001b[43m*\u001b[49m\u001b[43m*\u001b[49m\u001b[43mkwargs\u001b[49m\u001b[43m)\u001b[49m\n\u001b[32m   1848\u001b[39m \u001b[38;5;28mself\u001b[39m.n_completed_tasks += \u001b[32m1\u001b[39m\n\u001b[32m   1849\u001b[39m \u001b[38;5;28mself\u001b[39m.print_progress()\n",
      "\u001b[36mFile \u001b[39m\u001b[32m~\\AppData\\Local\\Packages\\PythonSoftwareFoundation.Python.3.12_qbz5n2kfra8p0\\LocalCache\\local-packages\\Python312\\site-packages\\sklearn\\utils\\parallel.py:139\u001b[39m, in \u001b[36m_FuncWrapper.__call__\u001b[39m\u001b[34m(self, *args, **kwargs)\u001b[39m\n\u001b[32m    137\u001b[39m     config = {}\n\u001b[32m    138\u001b[39m \u001b[38;5;28;01mwith\u001b[39;00m config_context(**config):\n\u001b[32m--> \u001b[39m\u001b[32m139\u001b[39m     \u001b[38;5;28;01mreturn\u001b[39;00m \u001b[38;5;28;43mself\u001b[39;49m\u001b[43m.\u001b[49m\u001b[43mfunction\u001b[49m\u001b[43m(\u001b[49m\u001b[43m*\u001b[49m\u001b[43margs\u001b[49m\u001b[43m,\u001b[49m\u001b[43m \u001b[49m\u001b[43m*\u001b[49m\u001b[43m*\u001b[49m\u001b[43mkwargs\u001b[49m\u001b[43m)\u001b[49m\n",
      "\u001b[36mFile \u001b[39m\u001b[32m~\\AppData\\Local\\Packages\\PythonSoftwareFoundation.Python.3.12_qbz5n2kfra8p0\\LocalCache\\local-packages\\Python312\\site-packages\\sklearn\\ensemble\\_forest.py:189\u001b[39m, in \u001b[36m_parallel_build_trees\u001b[39m\u001b[34m(tree, bootstrap, X, y, sample_weight, tree_idx, n_trees, verbose, class_weight, n_samples_bootstrap, missing_values_in_feature_mask)\u001b[39m\n\u001b[32m    186\u001b[39m     \u001b[38;5;28;01melif\u001b[39;00m class_weight == \u001b[33m\"\u001b[39m\u001b[33mbalanced_subsample\u001b[39m\u001b[33m\"\u001b[39m:\n\u001b[32m    187\u001b[39m         curr_sample_weight *= compute_sample_weight(\u001b[33m\"\u001b[39m\u001b[33mbalanced\u001b[39m\u001b[33m\"\u001b[39m, y, indices=indices)\n\u001b[32m--> \u001b[39m\u001b[32m189\u001b[39m     \u001b[43mtree\u001b[49m\u001b[43m.\u001b[49m\u001b[43m_fit\u001b[49m\u001b[43m(\u001b[49m\n\u001b[32m    190\u001b[39m \u001b[43m        \u001b[49m\u001b[43mX\u001b[49m\u001b[43m,\u001b[49m\n\u001b[32m    191\u001b[39m \u001b[43m        \u001b[49m\u001b[43my\u001b[49m\u001b[43m,\u001b[49m\n\u001b[32m    192\u001b[39m \u001b[43m        \u001b[49m\u001b[43msample_weight\u001b[49m\u001b[43m=\u001b[49m\u001b[43mcurr_sample_weight\u001b[49m\u001b[43m,\u001b[49m\n\u001b[32m    193\u001b[39m \u001b[43m        \u001b[49m\u001b[43mcheck_input\u001b[49m\u001b[43m=\u001b[49m\u001b[38;5;28;43;01mFalse\u001b[39;49;00m\u001b[43m,\u001b[49m\n\u001b[32m    194\u001b[39m \u001b[43m        \u001b[49m\u001b[43mmissing_values_in_feature_mask\u001b[49m\u001b[43m=\u001b[49m\u001b[43mmissing_values_in_feature_mask\u001b[49m\u001b[43m,\u001b[49m\n\u001b[32m    195\u001b[39m \u001b[43m    \u001b[49m\u001b[43m)\u001b[49m\n\u001b[32m    196\u001b[39m \u001b[38;5;28;01melse\u001b[39;00m:\n\u001b[32m    197\u001b[39m     tree._fit(\n\u001b[32m    198\u001b[39m         X,\n\u001b[32m    199\u001b[39m         y,\n\u001b[32m   (...)\u001b[39m\u001b[32m    202\u001b[39m         missing_values_in_feature_mask=missing_values_in_feature_mask,\n\u001b[32m    203\u001b[39m     )\n",
      "\u001b[36mFile \u001b[39m\u001b[32m~\\AppData\\Local\\Packages\\PythonSoftwareFoundation.Python.3.12_qbz5n2kfra8p0\\LocalCache\\local-packages\\Python312\\site-packages\\sklearn\\tree\\_classes.py:472\u001b[39m, in \u001b[36mBaseDecisionTree._fit\u001b[39m\u001b[34m(self, X, y, sample_weight, check_input, missing_values_in_feature_mask)\u001b[39m\n\u001b[32m    461\u001b[39m \u001b[38;5;28;01melse\u001b[39;00m:\n\u001b[32m    462\u001b[39m     builder = BestFirstTreeBuilder(\n\u001b[32m    463\u001b[39m         splitter,\n\u001b[32m    464\u001b[39m         min_samples_split,\n\u001b[32m   (...)\u001b[39m\u001b[32m    469\u001b[39m         \u001b[38;5;28mself\u001b[39m.min_impurity_decrease,\n\u001b[32m    470\u001b[39m     )\n\u001b[32m--> \u001b[39m\u001b[32m472\u001b[39m \u001b[43mbuilder\u001b[49m\u001b[43m.\u001b[49m\u001b[43mbuild\u001b[49m\u001b[43m(\u001b[49m\u001b[38;5;28;43mself\u001b[39;49m\u001b[43m.\u001b[49m\u001b[43mtree_\u001b[49m\u001b[43m,\u001b[49m\u001b[43m \u001b[49m\u001b[43mX\u001b[49m\u001b[43m,\u001b[49m\u001b[43m \u001b[49m\u001b[43my\u001b[49m\u001b[43m,\u001b[49m\u001b[43m \u001b[49m\u001b[43msample_weight\u001b[49m\u001b[43m,\u001b[49m\u001b[43m \u001b[49m\u001b[43mmissing_values_in_feature_mask\u001b[49m\u001b[43m)\u001b[49m\n\u001b[32m    474\u001b[39m \u001b[38;5;28;01mif\u001b[39;00m \u001b[38;5;28mself\u001b[39m.n_outputs_ == \u001b[32m1\u001b[39m \u001b[38;5;129;01mand\u001b[39;00m is_classifier(\u001b[38;5;28mself\u001b[39m):\n\u001b[32m    475\u001b[39m     \u001b[38;5;28mself\u001b[39m.n_classes_ = \u001b[38;5;28mself\u001b[39m.n_classes_[\u001b[32m0\u001b[39m]\n",
      "\u001b[31mKeyboardInterrupt\u001b[39m: "
     ]
    }
   ],
   "source": [
    "from sklearn.ensemble import RandomForestRegressor\n",
    "rf = RandomForestRegressor()\n",
    "rf.fit(x_train,y_train)\n",
    "rfpt= rf.predict(x_test)\n",
    "r2_score(y_test,rfpt)"
   ]
  },
  {
   "cell_type": "code",
   "execution_count": null,
   "id": "ce91337c",
   "metadata": {},
   "outputs": [],
   "source": []
  }
 ],
 "metadata": {
  "kernelspec": {
   "display_name": "Python 3",
   "language": "python",
   "name": "python3"
  },
  "language_info": {
   "codemirror_mode": {
    "name": "ipython",
    "version": 3
   },
   "file_extension": ".py",
   "mimetype": "text/x-python",
   "name": "python",
   "nbconvert_exporter": "python",
   "pygments_lexer": "ipython3",
   "version": "3.12.10"
  }
 },
 "nbformat": 4,
 "nbformat_minor": 5
}
